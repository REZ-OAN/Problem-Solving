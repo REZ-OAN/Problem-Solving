{
 "cells": [
  {
   "cell_type": "code",
   "execution_count": 1,
   "metadata": {},
   "outputs": [],
   "source": [
    "## importing libraries which are required to implement the A* Search\n",
    "import heapq\n",
    "from collections import defaultdict"
   ]
  },
  {
   "cell_type": "code",
   "execution_count": 2,
   "metadata": {},
   "outputs": [],
   "source": [
    "## creating the priorityQueue using heapq\n",
    "class priorityQueue :\n",
    "    def __init__(self) :\n",
    "        self.nodes = []\n",
    "    def push(self,vertex,cost):\n",
    "        heapq.heappush(self.nodes,(cost,vertex))\n",
    "    def pop(self):\n",
    "        return heapq.heappop(self.nodes)[1]\n",
    "    def isEmpty(self):\n",
    "        return self.nodes == []\n",
    "    def check(self):\n",
    "        print(self.nodes)"
   ]
  },
  {
   "cell_type": "code",
   "execution_count": 3,
   "metadata": {},
   "outputs": [],
   "source": [
    "## to create a  path tuple\n",
    "def MakePath(node,weight):\n",
    "    return (node,weight);"
   ]
  },
  {
   "cell_type": "code",
   "execution_count": 4,
   "metadata": {},
   "outputs": [],
   "source": [
    "## create a global class called Graph in which we can initialize a graph\n",
    "## also call the aStar searching algo from this initialized graph\n",
    "class Graph :\n",
    "    def __init__(self,nodes) :\n",
    "        self.vertices = nodes\n",
    "        self.graph = defaultdict(list)\n",
    "        self.heuristic = defaultdict();\n",
    "    def createEdge(self,u,v,w):\n",
    "        # as our graph will be undirected graph\n",
    "        self.graph[u].append(MakePath(v,w))\n",
    "        self.graph[v].append(MakePath(u,w))\n",
    "    def createHeuristic(self,node,cost):\n",
    "        self.heuristic[node]=cost\n",
    "    def h(self,node):\n",
    "        return self.heuristic[node]\n",
    "    def aStar(self,src,dist) :\n",
    "        path = {}\n",
    "        distance = {}\n",
    "        pq = priorityQueue()\n",
    "        pq.push(src,0)\n",
    "        distance[src] = 0\n",
    "        path[src] = None\n",
    "        expandedList = []\n",
    "        while  pq.isEmpty() is False:\n",
    "            current = pq.pop()\n",
    "            expandedList.append(current)\n",
    "            if(current == dist):\n",
    "                break\n",
    "            for node in self.graph[current] :\n",
    "                g = distance[current] + node[1]\n",
    "            if node[0] not in distance or g < distance[node[0]]:\n",
    "                distance[node[0]] = g\n",
    "                f = g + self.h(node[0])\n",
    "                pq.push(node[0],f)  \n",
    "                path[node[0]] = current\n",
    "        self.printPath(src,dist,path,distance,expandedList)\n",
    "    def printPath(self,src,dist,path,distance,expandedList) :\n",
    "        finalPath = []\n",
    "        i = dist\n",
    "        while path.get(i) is not None :\n",
    "            finalPath.append(i)\n",
    "            i = path[i]\n",
    "        finalPath.append(src)\n",
    "        finalPath.reverse()\n",
    "        print(\"A-star Agorithm\")\n",
    "        print(\"\\t{} to {}\".format(src,dist))\n",
    "        print(\"=======================================================\")\n",
    "        print(\"List of Nodes that Are expanded : \" + str(expandedList))\n",
    "        print(\"Total Number of Nodes that are Expanded : \" + str(len(expandedList)))\n",
    "        print(\"=======================================================\")\n",
    "        print(\"Nodes in Final path : \" + str(finalPath))\n",
    "        print(\"Total Number of Nodes in final path are : \" + str(len(finalPath)))\n",
    "        print(\"Total Cost : \" + str(distance[dist]))"
   ]
  },
  {
   "cell_type": "code",
   "execution_count": 9,
   "metadata": {},
   "outputs": [
    {
     "data": {
      "image/png": "[encoded data removed]",
      "text/plain": [
       "<IPython.core.display.Image object>"
      ]
     },
     "metadata": {},
     "output_type": "display_data"
    }
   ],
   "source": [
    "## you can ignore this cell \n",
    "## this cell is used to print the image of the corresponding graph\n",
    "from IPython.display import Image, display\n",
    "\n",
    "# Specify the path to your image file\n",
    "image_path = './astar.png'\n",
    "\n",
    "# Display the image\n",
    "display(Image(filename=image_path))\n"
   ]
  },
  {
   "cell_type": "code",
   "execution_count": 5,
   "metadata": {},
   "outputs": [],
   "source": [
    "# creating an object of Graph class initiated with 20 nodes\n",
    "graph = Graph(6)\n"
   ]
  },
  {
   "cell_type": "code",
   "execution_count": 6,
   "metadata": {},
   "outputs": [],
   "source": [
    "## establishing the edge between the  nodes\n",
    "graph.createEdge('A','B',2)\n",
    "graph.createEdge('A','E',3)\n",
    "graph.createEdge('B','C',1)\n",
    "graph.createEdge('D','E',6)\n",
    "graph.createEdge('D','G',1)"
   ]
  },
  {
   "cell_type": "code",
   "execution_count": 7,
   "metadata": {},
   "outputs": [],
   "source": [
    "## initiate the heuristic values for each of the nodes\n",
    "graph.createHeuristic('A', 11)\n",
    "graph.createHeuristic('B',6)\n",
    "graph.createHeuristic('C', 99)\n",
    "graph.createHeuristic('D', 1)\n",
    "graph.createHeuristic('E', 7)\n",
    "graph.createHeuristic('G',0)"
   ]
  },
  {
   "cell_type": "code",
   "execution_count": 8,
   "metadata": {},
   "outputs": [
    {
     "name": "stdout",
     "output_type": "stream",
     "text": [
      "A-star Agorithm\n",
      "\tA to G\n",
      "=======================================================\n",
      "List of Nodes that Are expanded : ['A', 'E', 'D', 'G']\n",
      "Total Number of Nodes that are Expanded : 4\n",
      "=======================================================\n",
      "Nodes in Final path : ['A', 'E', 'D', 'G']\n",
      "Total Number of Nodes in final path are : 4\n",
      "Total Cost : 10\n"
     ]
    }
   ],
   "source": [
    "graph.aStar('A','G')"
   ]
  },
  {
   "cell_type": "code",
   "execution_count": null,
   "metadata": {},
   "outputs": [],
   "source": []
  }
 ],
 "metadata": {
  "kernelspec": {
   "display_name": "Python 3",
   "language": "python",
   "name": "python3"
  },
  "language_info": {
   "codemirror_mode": {
    "name": "ipython",
    "version": 3
   },
   "file_extension": ".py",
   "mimetype": "text/x-python",
   "name": "python",
   "nbconvert_exporter": "python",
   "pygments_lexer": "ipython3",
   "version": "3.10.12"
  }
 },
 "nbformat": 4,
 "nbformat_minor": 2
}
